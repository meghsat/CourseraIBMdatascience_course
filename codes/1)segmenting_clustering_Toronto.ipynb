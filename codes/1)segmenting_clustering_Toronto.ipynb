{
 "cells": [
  {
   "cell_type": "markdown",
   "metadata": {},
   "source": [
    "<h1 align=center><font size = 5>Segmenting and Clustering Neighborhoods in Toronto</font></h1>"
   ]
  },
  {
   "cell_type": "markdown",
   "metadata": {
    "collapsed": true
   },
   "source": [
    "### Question 1"
   ]
  },
  {
   "cell_type": "code",
   "execution_count": 2,
   "metadata": {},
   "outputs": [],
   "source": [
    "import requests # library to handle requests\n",
    "import lxml.html as lh\n",
    "import bs4 as bs\n",
    "import urllib.request\n",
    "\n",
    "import numpy as np # library to handle data in a vectorized manner\n",
    "import pandas as pd # library for data analsysis"
   ]
  },
  {
   "cell_type": "code",
   "execution_count": 3,
   "metadata": {},
   "outputs": [],
   "source": [
    "## Source URL\n",
    "url   = \"https://en.wikipedia.org/wiki/List_of_postal_codes_of_Canada:_M\""
   ]
  },
  {
   "cell_type": "code",
   "execution_count": 4,
   "metadata": {
    "scrolled": true
   },
   "outputs": [],
   "source": [
    "def scrape_table_bs4(cname,cols):\n",
    "    page  = urllib.request.urlopen(url).read()\n",
    "    soup  = bs.BeautifulSoup(page,'lxml')\n",
    "    table = soup.find(\"table\",class_=cname)\n",
    "    header = [head.findAll(text=True)[0].strip() for head in table.find_all(\"th\")]\n",
    "    data   = [[td.findAll(text=True)[0].strip() for td in tr.find_all(\"td\")]\n",
    "              for tr in table.find_all(\"tr\")]\n",
    "    data    = [row for row in data if len(row) == cols]\n",
    "    # Store data to this temporary dataframe\n",
    "    raw_df = pd.DataFrame(data,columns=header)\n",
    "    return raw_df\n",
    "def scrape_table_lxml(XPATH,cols):\n",
    "    page = requests.get(url)\n",
    "    doc = lh.fromstring(page.content)\n",
    "    table_content = doc.xpath(XPATH)\n",
    "    for table in table_content:\n",
    "        headers = [th.text_content().strip() for th in table.xpath('//th')]\n",
    "        headers = headers[0:3]\n",
    "        data    = [[td.text_content().strip() for td in tr.xpath('td')] \n",
    "                   for tr in table.xpath('//tbody/tr')]\n",
    "        data    = [row for row in data if len(row) == cols]\n",
    "        raw_df = pd.DataFrame(data,columns=headers)\n",
    "        return raw_df\n"
   ]
  },
  {
   "cell_type": "markdown",
   "metadata": {},
   "source": [
    "# Data Cleanup\n",
    "1. Drop/ignore cells with un-assigned boroughs.\n",
    "2. If a cell has a borough but a Not assigned neighborhood, then the neighborhood will be the same as the borough.\n",
    "3. Group the table by PostalCode/Borough, Neighbourhood belonging to same borough will be combined in 'Neighbourhood' column as separated with 'comma'."
   ]
  },
  {
   "cell_type": "code",
   "execution_count": 9,
   "metadata": {
    "scrolled": true
   },
   "outputs": [
    {
     "name": "stdout",
     "output_type": "stream",
     "text": [
      "    Postcode           Borough  \\\n",
      "0        M1A      Not assigned   \n",
      "1        M2A      Not assigned   \n",
      "2        M3A        North York   \n",
      "3        M4A        North York   \n",
      "4        M5A  Downtown Toronto   \n",
      "5        M6A        North York   \n",
      "6        M6A        North York   \n",
      "7        M7A  Downtown Toronto   \n",
      "8        M8A      Not assigned   \n",
      "9        M9A      Queen's Park   \n",
      "10       M1B       Scarborough   \n",
      "11       M1B       Scarborough   \n",
      "12       M2B      Not assigned   \n",
      "13       M3B        North York   \n",
      "14       M4B         East York   \n",
      "15       M4B         East York   \n",
      "16       M5B  Downtown Toronto   \n",
      "17       M5B  Downtown Toronto   \n",
      "18       M6B        North York   \n",
      "19       M7B      Not assigned   \n",
      "20       M8B      Not assigned   \n",
      "21       M9B         Etobicoke   \n",
      "22       M9B         Etobicoke   \n",
      "23       M9B         Etobicoke   \n",
      "24       M9B         Etobicoke   \n",
      "25       M9B         Etobicoke   \n",
      "26       M1C       Scarborough   \n",
      "27       M1C       Scarborough   \n",
      "28       M1C       Scarborough   \n",
      "29       M2C      Not assigned   \n",
      "..       ...               ...   \n",
      "257      M9X      Not assigned   \n",
      "258      M1Y      Not assigned   \n",
      "259      M2Y      Not assigned   \n",
      "260      M3Y      Not assigned   \n",
      "261      M4Y  Downtown Toronto   \n",
      "262      M5Y      Not assigned   \n",
      "263      M6Y      Not assigned   \n",
      "264      M7Y      East Toronto   \n",
      "265      M8Y         Etobicoke   \n",
      "266      M8Y         Etobicoke   \n",
      "267      M8Y         Etobicoke   \n",
      "268      M8Y         Etobicoke   \n",
      "269      M8Y         Etobicoke   \n",
      "270      M8Y         Etobicoke   \n",
      "271      M8Y         Etobicoke   \n",
      "272      M8Y         Etobicoke   \n",
      "273      M9Y      Not assigned   \n",
      "274      M1Z      Not assigned   \n",
      "275      M2Z      Not assigned   \n",
      "276      M3Z      Not assigned   \n",
      "277      M4Z      Not assigned   \n",
      "278      M5Z      Not assigned   \n",
      "279      M6Z      Not assigned   \n",
      "280      M7Z      Not assigned   \n",
      "281      M8Z         Etobicoke   \n",
      "282      M8Z         Etobicoke   \n",
      "283      M8Z         Etobicoke   \n",
      "284      M8Z         Etobicoke   \n",
      "285      M8Z         Etobicoke   \n",
      "286      M9Z      Not assigned   \n",
      "\n",
      "                                         Neighbourhood  \n",
      "0                                         Not assigned  \n",
      "1                                         Not assigned  \n",
      "2                                            Parkwoods  \n",
      "3                                     Victoria Village  \n",
      "4                                         Harbourfront  \n",
      "5                                     Lawrence Heights  \n",
      "6                                       Lawrence Manor  \n",
      "7                                         Queen's Park  \n",
      "8                                         Not assigned  \n",
      "9                                         Not assigned  \n",
      "10                                               Rouge  \n",
      "11                                             Malvern  \n",
      "12                                        Not assigned  \n",
      "13                                     Don Mills North  \n",
      "14                                    Woodbine Gardens  \n",
      "15                                       Parkview Hill  \n",
      "16                                             Ryerson  \n",
      "17                                     Garden District  \n",
      "18                                           Glencairn  \n",
      "19                                        Not assigned  \n",
      "20                                        Not assigned  \n",
      "21                                          Cloverdale  \n",
      "22                                           Islington  \n",
      "23                                        Martin Grove  \n",
      "24                                    Princess Gardens  \n",
      "25                                     West Deane Park  \n",
      "26                                      Highland Creek  \n",
      "27                                          Rouge Hill  \n",
      "28                                          Port Union  \n",
      "29                                        Not assigned  \n",
      "..                                                 ...  \n",
      "257                                       Not assigned  \n",
      "258                                       Not assigned  \n",
      "259                                       Not assigned  \n",
      "260                                       Not assigned  \n",
      "261                               Church and Wellesley  \n",
      "262                                       Not assigned  \n",
      "263                                       Not assigned  \n",
      "264  Business Reply Mail Processing Centre 969 Eastern  \n",
      "265                                         Humber Bay  \n",
      "266                                   King's Mill Park  \n",
      "267                           Kingsway Park South East  \n",
      "268                                          Mimico NE  \n",
      "269                                     Old Mill South  \n",
      "270                                 The Queensway East  \n",
      "271                              Royal York South East  \n",
      "272                                           Sunnylea  \n",
      "273                                       Not assigned  \n",
      "274                                       Not assigned  \n",
      "275                                       Not assigned  \n",
      "276                                       Not assigned  \n",
      "277                                       Not assigned  \n",
      "278                                       Not assigned  \n",
      "279                                       Not assigned  \n",
      "280                                       Not assigned  \n",
      "281                           Kingsway Park South West  \n",
      "282                                          Mimico NW  \n",
      "283                                 The Queensway West  \n",
      "284                              Royal York South West  \n",
      "285                                     South of Bloor  \n",
      "286                                       Not assigned  \n",
      "\n",
      "[287 rows x 3 columns]\n"
     ]
    }
   ],
   "source": [
    "Toronto_Postal = scrape_table_bs4(\"wikitable\",3)\n",
    "print(Toronto_Postal)"
   ]
  },
  {
   "cell_type": "code",
   "execution_count": 10,
   "metadata": {},
   "outputs": [],
   "source": [
    "# Only process the cells that have an assigned borough.  Ignore cells with a borough that is Not assigned.\n",
    "Toronto_Postal_Codes=Toronto_Postal[~Toronto_Postal['Borough'].isin(['Not assigned'])]\n",
    "Toronto_Postal_Codes=Toronto_Postal_Codes.sort_values(by=['Postcode','Borough','Neighbourhood'], ascending=[1,1,1]).reset_index(drop=True)\n",
    "# If a cell has a borough but a Not assigned neighborhood, then the neighborhood will be the same as the borough. For example the value of the Borough and the Neighborhood columns will be Queen's Park.\n",
    "Toronto_Postal_Codes.loc[Toronto_Postal_Codes['Neighbourhood'] == 'Not assigned', ['Neighbourhood']] = Toronto_Postal_Codes['Borough']\n",
    "sample = Toronto_Postal_Codes.loc[Toronto_Postal_Codes['Borough'] == 'Queen\\'s Park']\n",
    "Toronto_Postal_Codes = Toronto_Postal_Codes.groupby(['Postcode','Borough'])['Neighbourhood'].apply(', '.join).reset_index()"
   ]
  },
  {
   "cell_type": "code",
   "execution_count": 11,
   "metadata": {},
   "outputs": [
    {
     "data": {
      "text/html": [
       "<div>\n",
       "<style scoped>\n",
       "    .dataframe tbody tr th:only-of-type {\n",
       "        vertical-align: middle;\n",
       "    }\n",
       "\n",
       "    .dataframe tbody tr th {\n",
       "        vertical-align: top;\n",
       "    }\n",
       "\n",
       "    .dataframe thead th {\n",
       "        text-align: right;\n",
       "    }\n",
       "</style>\n",
       "<table border=\"1\" class=\"dataframe\">\n",
       "  <thead>\n",
       "    <tr style=\"text-align: right;\">\n",
       "      <th></th>\n",
       "      <th>Postcode</th>\n",
       "      <th>Borough</th>\n",
       "      <th>Neighbourhood</th>\n",
       "    </tr>\n",
       "  </thead>\n",
       "  <tbody>\n",
       "    <tr>\n",
       "      <th>0</th>\n",
       "      <td>M1B</td>\n",
       "      <td>Scarborough</td>\n",
       "      <td>Malvern, Rouge</td>\n",
       "    </tr>\n",
       "    <tr>\n",
       "      <th>1</th>\n",
       "      <td>M1C</td>\n",
       "      <td>Scarborough</td>\n",
       "      <td>Highland Creek, Port Union, Rouge Hill</td>\n",
       "    </tr>\n",
       "    <tr>\n",
       "      <th>2</th>\n",
       "      <td>M1E</td>\n",
       "      <td>Scarborough</td>\n",
       "      <td>Guildwood, Morningside, West Hill</td>\n",
       "    </tr>\n",
       "    <tr>\n",
       "      <th>3</th>\n",
       "      <td>M1G</td>\n",
       "      <td>Scarborough</td>\n",
       "      <td>Woburn</td>\n",
       "    </tr>\n",
       "    <tr>\n",
       "      <th>4</th>\n",
       "      <td>M1H</td>\n",
       "      <td>Scarborough</td>\n",
       "      <td>Cedarbrae</td>\n",
       "    </tr>\n",
       "    <tr>\n",
       "      <th>5</th>\n",
       "      <td>M1J</td>\n",
       "      <td>Scarborough</td>\n",
       "      <td>Scarborough Village</td>\n",
       "    </tr>\n",
       "    <tr>\n",
       "      <th>6</th>\n",
       "      <td>M1K</td>\n",
       "      <td>Scarborough</td>\n",
       "      <td>East Birchmount Park, Ionview, Kennedy Park</td>\n",
       "    </tr>\n",
       "    <tr>\n",
       "      <th>7</th>\n",
       "      <td>M1L</td>\n",
       "      <td>Scarborough</td>\n",
       "      <td>Clairlea, Golden Mile, Oakridge</td>\n",
       "    </tr>\n",
       "    <tr>\n",
       "      <th>8</th>\n",
       "      <td>M1M</td>\n",
       "      <td>Scarborough</td>\n",
       "      <td>Cliffcrest, Cliffside, Scarborough Village West</td>\n",
       "    </tr>\n",
       "    <tr>\n",
       "      <th>9</th>\n",
       "      <td>M1N</td>\n",
       "      <td>Scarborough</td>\n",
       "      <td>Birch Cliff, Cliffside West</td>\n",
       "    </tr>\n",
       "  </tbody>\n",
       "</table>\n",
       "</div>"
      ],
      "text/plain": [
       "  Postcode      Borough                                    Neighbourhood\n",
       "0      M1B  Scarborough                                   Malvern, Rouge\n",
       "1      M1C  Scarborough           Highland Creek, Port Union, Rouge Hill\n",
       "2      M1E  Scarborough                Guildwood, Morningside, West Hill\n",
       "3      M1G  Scarborough                                           Woburn\n",
       "4      M1H  Scarborough                                        Cedarbrae\n",
       "5      M1J  Scarborough                              Scarborough Village\n",
       "6      M1K  Scarborough      East Birchmount Park, Ionview, Kennedy Park\n",
       "7      M1L  Scarborough                  Clairlea, Golden Mile, Oakridge\n",
       "8      M1M  Scarborough  Cliffcrest, Cliffside, Scarborough Village West\n",
       "9      M1N  Scarborough                      Birch Cliff, Cliffside West"
      ]
     },
     "execution_count": 11,
     "metadata": {},
     "output_type": "execute_result"
    }
   ],
   "source": [
    "Toronto_Postal_Codes.head(10)"
   ]
  },
  {
   "cell_type": "code",
   "execution_count": null,
   "metadata": {},
   "outputs": [],
   "source": []
  },
  {
   "cell_type": "code",
   "execution_count": 8,
   "metadata": {},
   "outputs": [
    {
     "data": {
      "text/plain": [
       "(103, 3)"
      ]
     },
     "execution_count": 8,
     "metadata": {},
     "output_type": "execute_result"
    }
   ],
   "source": [
    "TorontoPostalCodes.shape"
   ]
  },
  {
   "cell_type": "code",
   "execution_count": 16,
   "metadata": {},
   "outputs": [],
   "source": [
    "Toronto_Postal_Codes.to_csv('Toronto.TASK_1_df.csv',index=False)"
   ]
  }
 ],
 "metadata": {
  "kernelspec": {
   "display_name": "Python 3",
   "language": "python",
   "name": "python3"
  },
  "language_info": {
   "codemirror_mode": {
    "name": "ipython",
    "version": 3
   },
   "file_extension": ".py",
   "mimetype": "text/x-python",
   "name": "python",
   "nbconvert_exporter": "python",
   "pygments_lexer": "ipython3",
   "version": "3.7.3"
  }
 },
 "nbformat": 4,
 "nbformat_minor": 1
}
